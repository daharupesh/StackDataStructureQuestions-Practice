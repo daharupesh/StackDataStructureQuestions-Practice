{
 "cells": [
  {
   "cell_type": "code",
   "execution_count": 48,
   "metadata": {},
   "outputs": [],
   "source": [
    "# Stack Data Structure Using Array\n",
    "class Stack:\n",
    "    def __init__(self , capacity):\n",
    "        self.capacity = capacity\n",
    "        self.top = -1\n",
    "        self.arr = [None] *capacity\n",
    "\n",
    "\n",
    "    def IsEmpty(self):\n",
    "        return self.top == -1\n",
    "\n",
    "    def IsFull(self):\n",
    "        return self.top == self.capacity -1\n",
    "\n",
    "    def push(self , data):\n",
    "        if self.IsFull():\n",
    "            print(\"Stack OverFlow\")\n",
    "            return\n",
    "\n",
    "        self.top +=1\n",
    "        self.arr[self.top] = data\n",
    "        print(f\"{data} has been pushed\")\n",
    "\n",
    "    def pop(self):\n",
    "        if self.IsEmpty():\n",
    "            print(\"Stack UnderFlow\")\n",
    "            return\n",
    "\n",
    "        data = self.arr[self.top]\n",
    "        self.top -=1\n",
    "        return f\"{data} is pop\"\n",
    "\n",
    "    def traverse(self):\n",
    "        for i in range(self.top+1):\n",
    "            print(self.arr[i] , end=\",\")\n",
    "\n",
    "\n",
    "    def peek(self):\n",
    "        return self.arr[self.top]                    \n",
    "\n",
    " \n"
   ]
  },
  {
   "cell_type": "code",
   "execution_count": 49,
   "metadata": {},
   "outputs": [],
   "source": [
    "stack = Stack(5)"
   ]
  },
  {
   "cell_type": "code",
   "execution_count": 50,
   "metadata": {},
   "outputs": [
    {
     "name": "stdout",
     "output_type": "stream",
     "text": [
      "1 has been pushed\n"
     ]
    }
   ],
   "source": [
    "stack.push(1)"
   ]
  },
  {
   "cell_type": "code",
   "execution_count": 51,
   "metadata": {},
   "outputs": [
    {
     "name": "stdout",
     "output_type": "stream",
     "text": [
      "2 has been pushed\n",
      "7 has been pushed\n",
      "9 has been pushed\n",
      "10 has been pushed\n"
     ]
    }
   ],
   "source": [
    "stack.push(2)\n",
    "stack.push(7)\n",
    "stack.push(9)\n",
    "stack.push(10)"
   ]
  },
  {
   "cell_type": "code",
   "execution_count": 52,
   "metadata": {},
   "outputs": [
    {
     "name": "stdout",
     "output_type": "stream",
     "text": [
      "Stack OverFlow\n"
     ]
    }
   ],
   "source": [
    "stack.push(4)"
   ]
  },
  {
   "cell_type": "code",
   "execution_count": 53,
   "metadata": {},
   "outputs": [
    {
     "data": {
      "text/plain": [
       "'10 is pop'"
      ]
     },
     "execution_count": 53,
     "metadata": {},
     "output_type": "execute_result"
    }
   ],
   "source": [
    "stack.pop()"
   ]
  },
  {
   "cell_type": "code",
   "execution_count": 54,
   "metadata": {},
   "outputs": [
    {
     "name": "stdout",
     "output_type": "stream",
     "text": [
      "1,2,7,9,"
     ]
    }
   ],
   "source": [
    "stack.traverse()"
   ]
  },
  {
   "cell_type": "code",
   "execution_count": 55,
   "metadata": {},
   "outputs": [
    {
     "data": {
      "text/plain": [
       "9"
      ]
     },
     "execution_count": 55,
     "metadata": {},
     "output_type": "execute_result"
    }
   ],
   "source": [
    "stack.peek()"
   ]
  },
  {
   "cell_type": "code",
   "execution_count": 4,
   "metadata": {},
   "outputs": [],
   "source": [
    "# Stack Using Linked List\n",
    "class Node:\n",
    "    def __init__(self , data , next = None):\n",
    "        self.data = data\n",
    "        self.next = next\n",
    "\n",
    "    def setData(self,data):\n",
    "        self.data = data\n",
    "\n",
    "    def getData(self):\n",
    "        return self.data\n",
    "\n",
    "    def setNext(self , next):\n",
    "        self.next = next\n",
    "\n",
    "    def getNext(self):\n",
    "        return self.next     \n"
   ]
  },
  {
   "cell_type": "code",
   "execution_count": 5,
   "metadata": {},
   "outputs": [],
   "source": [
    "# Defining StackLL\n",
    "class StackLL:\n",
    "    def __init__(self):\n",
    "        self.head = None\n",
    "\n",
    "\n",
    "    def IsEmpty(self):\n",
    "        return self.head == None\n",
    "\n",
    "    def push(self , data):\n",
    "        newNode = Node(data)\n",
    "        newNode.setNext(self.head)\n",
    "        self.head = newNode\n",
    "        print(f\"{data} is pushed\")\n",
    "        \n",
    "    def pop(self):\n",
    "        if self.IsEmpty():\n",
    "            print(\"Stack UnderFlow\")\n",
    "            return\n",
    "\n",
    "        data = self.head.getData()\n",
    "        self.head = self.head.getNext()\n",
    "        return f\"{data} is pop\" \n",
    "\n",
    "    def peek(self):\n",
    "        if self.IsEmpty():\n",
    "            print(\"Stack UnderFlow\")\n",
    "\n",
    "        data = self.head.getData()\n",
    "        return data\n",
    "    def traverse(self):\n",
    "        temp = self.head\n",
    "        while temp:\n",
    "            print(temp.getData() , end=\" -> \")\n",
    "            temp = temp.getNext()\n",
    "\n",
    "    def size(self):\n",
    "        temp = self.head\n",
    "        length = 0\n",
    "        while temp:\n",
    "            length +=1\n",
    "            temp = temp.getNext()\n",
    "\n",
    "        return length                    \n",
    "\n"
   ]
  },
  {
   "cell_type": "code",
   "execution_count": 6,
   "metadata": {},
   "outputs": [],
   "source": [
    "stack = StackLL()"
   ]
  },
  {
   "cell_type": "code",
   "execution_count": 7,
   "metadata": {},
   "outputs": [
    {
     "name": "stdout",
     "output_type": "stream",
     "text": [
      "6 is pushed\n"
     ]
    }
   ],
   "source": [
    "stack.push(6)"
   ]
  },
  {
   "cell_type": "code",
   "execution_count": 70,
   "metadata": {},
   "outputs": [
    {
     "name": "stdout",
     "output_type": "stream",
     "text": [
      "7 is pushed\n"
     ]
    }
   ],
   "source": [
    "stack.push(7)"
   ]
  },
  {
   "cell_type": "code",
   "execution_count": 71,
   "metadata": {},
   "outputs": [
    {
     "data": {
      "text/plain": [
       "'7 is pop'"
      ]
     },
     "execution_count": 71,
     "metadata": {},
     "output_type": "execute_result"
    }
   ],
   "source": [
    "stack.pop()"
   ]
  },
  {
   "cell_type": "code",
   "execution_count": 72,
   "metadata": {},
   "outputs": [
    {
     "name": "stdout",
     "output_type": "stream",
     "text": [
      "6 -> "
     ]
    }
   ],
   "source": [
    "stack.traverse()"
   ]
  },
  {
   "cell_type": "code",
   "execution_count": 73,
   "metadata": {},
   "outputs": [
    {
     "name": "stdout",
     "output_type": "stream",
     "text": [
      "4 is pushed\n",
      "4 is pushed\n",
      "4 is pushed\n",
      "4 is pushed\n",
      "4 is pushed\n"
     ]
    }
   ],
   "source": [
    "stack.push(4)\n",
    "stack.push(4)\n",
    "stack.push(4)\n",
    "stack.push(4)\n",
    "stack.push(4)"
   ]
  },
  {
   "cell_type": "code",
   "execution_count": 74,
   "metadata": {},
   "outputs": [
    {
     "name": "stdout",
     "output_type": "stream",
     "text": [
      "4 -> 4 -> 4 -> 4 -> 4 -> 6 -> "
     ]
    }
   ],
   "source": [
    "stack.traverse()"
   ]
  },
  {
   "cell_type": "code",
   "execution_count": 75,
   "metadata": {},
   "outputs": [
    {
     "name": "stdout",
     "output_type": "stream",
     "text": [
      "4 is pushed\n",
      "4 is pushed\n",
      "4 is pushed\n",
      "4 is pushed\n",
      "4 is pushed\n",
      "4 is pushed\n",
      "4 is pushed\n",
      "4 is pushed\n",
      "4 is pushed\n",
      "4 is pushed\n",
      "4 is pushed\n",
      "4 is pushed\n",
      "4 is pushed\n",
      "4 is pushed\n",
      "4 is pushed\n",
      "4 is pushed\n",
      "4 is pushed\n",
      "4 is pushed\n",
      "4 is pushed\n",
      "4 is pushed\n"
     ]
    }
   ],
   "source": [
    "stack.push(4)\n",
    "stack.push(4)\n",
    "stack.push(4)\n",
    "stack.push(4)\n",
    "stack.push(4)\n",
    "stack.push(4)\n",
    "stack.push(4)\n",
    "stack.push(4)\n",
    "stack.push(4)\n",
    "stack.push(4)\n",
    "stack.push(4)\n",
    "stack.push(4)\n",
    "stack.push(4)\n",
    "stack.push(4)\n",
    "stack.push(4)\n",
    "stack.push(4)\n",
    "stack.push(4)\n",
    "stack.push(4)\n",
    "stack.push(4)\n",
    "stack.push(4)"
   ]
  },
  {
   "cell_type": "code",
   "execution_count": 76,
   "metadata": {},
   "outputs": [
    {
     "name": "stdout",
     "output_type": "stream",
     "text": [
      "4 -> 4 -> 4 -> 4 -> 4 -> 4 -> 4 -> 4 -> 4 -> 4 -> 4 -> 4 -> 4 -> 4 -> 4 -> 4 -> 4 -> 4 -> 4 -> 4 -> 4 -> 4 -> 4 -> 4 -> 4 -> 6 -> "
     ]
    }
   ],
   "source": [
    "stack.traverse()"
   ]
  },
  {
   "cell_type": "code",
   "execution_count": 14,
   "metadata": {},
   "outputs": [],
   "source": [
    "# Program of Balanced expression...\n",
    "def IsBalancedExpression(exp):\n",
    "    stack = StackLL()\n",
    "    for c in exp:\n",
    "        if c in [\"{\",\"[\",\"(\"]:\n",
    "            stack.push(c)\n",
    "\n",
    "        else:\n",
    "            if stack.IsEmpty():\n",
    "                return False\n",
    "\n",
    "            char = stack.pop()\n",
    "            if char == \"{\" and c != \"}\":\n",
    "                return False\n",
    "            elif char ==\"(\" and c!=\")\":\n",
    "                return False\n",
    "            elif char ==\"[\" and c!= \"]\":\n",
    "                return False\n",
    "    return stack.IsEmpty()        \n"
   ]
  },
  {
   "cell_type": "code",
   "execution_count": 18,
   "metadata": {},
   "outputs": [
    {
     "name": "stdout",
     "output_type": "stream",
     "text": [
      "{ is pushed\n",
      "{ is pushed\n",
      "{ is pushed\n",
      "{ is pushed\n",
      "{ is pushed\n"
     ]
    },
    {
     "data": {
      "text/plain": [
       "False"
      ]
     },
     "execution_count": 18,
     "metadata": {},
     "output_type": "execute_result"
    }
   ],
   "source": [
    "IsBalancedExpression(\"{{{{{}}}\")"
   ]
  },
  {
   "cell_type": "code",
   "execution_count": null,
   "metadata": {},
   "outputs": [],
   "source": [
    "# Delete the Middle Element of the stack write program"
   ]
  }
 ],
 "metadata": {
  "kernelspec": {
   "display_name": "Python 3",
   "language": "python",
   "name": "python3"
  },
  "language_info": {
   "codemirror_mode": {
    "name": "ipython",
    "version": 3
   },
   "file_extension": ".py",
   "mimetype": "text/x-python",
   "name": "python",
   "nbconvert_exporter": "python",
   "pygments_lexer": "ipython3",
   "version": "3.11.0"
  }
 },
 "nbformat": 4,
 "nbformat_minor": 2
}
